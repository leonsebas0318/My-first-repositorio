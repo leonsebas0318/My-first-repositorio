{
  "nbformat": 4,
  "nbformat_minor": 0,
  "metadata": {
    "colab": {
      "provenance": [],
      "include_colab_link": true
    },
    "kernelspec": {
      "name": "python3",
      "display_name": "Python 3"
    },
    "language_info": {
      "name": "python"
    }
  },
  "cells": [
    {
      "cell_type": "markdown",
      "metadata": {
        "id": "view-in-github",
        "colab_type": "text"
      },
      "source": [
        "<a href=\"https://colab.research.google.com/github/leonsebas0318/My-first-repositorio/blob/main/Tarea_Pseudoc%C3%B3digo.ipynb\" target=\"_parent\"><img src=\"https://colab.research.google.com/assets/colab-badge.svg\" alt=\"Open In Colab\"/></a>"
      ]
    },
    {
      "cell_type": "markdown",
      "source": [
        "# Tarea de: Algoritmos, Pseudocódigo y Diagramas de Flujo\n",
        "\n",
        "**Nombre:** sebastian leon cordero.\n",
        "\n",
        "**ID:** 000572924  \n",
        "**Email:** sebas.leon12@hotmail.com  \n",
        "**Fecha:** 24/02/2025."
      ],
      "metadata": {
        "id": "GZriDK_epVfr"
      }
    },
    {
      "cell_type": "markdown",
      "source": [],
      "metadata": {
        "id": "px28UZy2lu6l"
      }
    },
    {
      "cell_type": "markdown",
      "source": [
        "## Problema 1:\n",
        "\n",
        "<br>**Tarea:** Calcular la resistencia equivalente de 𝑛 resistencias en paralelo.  \n",
        "**Descripción**: Desarrolla un algoritmo que tome como entrada un valor 𝑛 que indica el número de resistencias en paralelo, el valor de cada una de ellas en ohmios, y calcule la resistencia equivalente. Tenga en cuenta que (1/Req) = (1/R1) + (1/R2) + ... + (1/Rn).\n",
        "<br>**Resultado:** La resistencia equivalente en ohmios.\n",
        "<br>**Entradas:** Un valor 𝑛 y 𝑛 valores de resistencia en ohmios.\n",
        "<br>**Ejemplo:** Entrada: 3, 100, 200, 300; **Salida esperada:** 54.54 (ohmios).\n",
        "\n",
        "\n",
        "<br>*Algoritmo*\n",
        "1. Declarar una variable `n` para la cantidad de resistencias.\n",
        "2. Leer los valores de cada resistencia `Ri`.\n",
        "3. Calcular la inversa de la resistencia equivalente sumando los valores `1/Ri`.\n",
        "4. Obtener `Req` como `1 / sumatoria`.\n",
        "5. Mostrar el resultado.\n",
        "\n",
        "```\n",
        "Start\n",
        "  Input n\n",
        "  Set Req = 0\n",
        "  For i from 1 to n do\n",
        "    Input Ri\n",
        "    Set Req = Req + (1/Ri)\n",
        "  EndFor\n",
        "  Set Req = 1 / Req\n",
        "  Display \"La resistencia equivalente es:\", Req\n",
        "End\n",
        "```\n"
      ],
      "metadata": {
        "id": "agv1HMySy86i"
      }
    },
    {
      "cell_type": "code",
      "source": [
        "def resistencia_equivalente(n, resistencias):\n",
        "    Req_inv = sum(1/r for r in resistencias)\n",
        "    return 1 / Req_inv\n",
        "\n",
        "# Ejemplo de uso\n",
        "n = 3\n",
        "resistencias = [100, 200, 300]\n",
        "print(\"La resistencia equivalente es:\", resistencia_equivalente(n, resistencias))"
      ],
      "metadata": {
        "colab": {
          "base_uri": "https://localhost:8080/"
        },
        "id": "UypNVE9e5cMP",
        "outputId": "7f2e36d7-082b-479e-afde-38f6d749b463"
      },
      "execution_count": null,
      "outputs": [
        {
          "output_type": "stream",
          "name": "stdout",
          "text": [
            "La resistencia equivalente es: 54.54545454545455\n"
          ]
        }
      ]
    },
    {
      "cell_type": "markdown",
      "source": [
        "##Problema 2:\n",
        "\n",
        "<br>**Tarea:** Calcular la potencia disipada en un circuito con una resistencia dada y una corriente especificada.\n",
        "<br>**Descripción:** Escribe un algoritmo que tome como entrada el valor de la resistencia (𝑅) en ohmios y el\n",
        "valor de la corriente (𝐼) en amperios, y calcule la potencia disipada en el circuito utilizando la ley de\n",
        "Joule **𝑃=𝐼2𝑅**.\n",
        "\n",
        "<br>**Resultado:** La potencia disipada en el circuito en vatios.\n",
        "<br>**Entradas:** El valor de la resistencia en ohmios y el valor de la corriente en amperios.\n",
        "<br>**Ejemplo:** **Entrada:** 50 (ohmios), 2 (amperios); **Salida esperada:** 200 (vatios).\n",
        "\n",
        "<br>*Algortimo*\n",
        "1. Leer el valor de la resistencia `R` en ohmios.\n",
        "2. Leer el valor de la corriente `I` en amperios.\n",
        "3. Calcular la potencia disipada `P = I^2 * R`.\n",
        "4. Mostrar el resultado en vatios.\n",
        "\n",
        "```\n",
        "Start\n",
        "  Input R, I\n",
        "  Set P = I^2 * R\n",
        "  Display \"La potencia disipada son\", P, \"vatios\"\n",
        "End"
      ],
      "metadata": {
        "id": "wf0mVQJf-YOm"
      }
    },
    {
      "cell_type": "code",
      "source": [
        "def potencia_disipada(R, I):\n",
        "    return I**2 * R\n",
        "\n",
        "# Ejemplo de uso\n",
        "print(\"La potencia disipada son\", potencia_disipada(50, 2), \"vatios\")"
      ],
      "metadata": {
        "colab": {
          "base_uri": "https://localhost:8080/"
        },
        "id": "Dxi4-F8MAjYJ",
        "outputId": "66f48a7f-6eba-4723-def8-38395f4e1e21"
      },
      "execution_count": null,
      "outputs": [
        {
          "output_type": "stream",
          "name": "stdout",
          "text": [
            "La potencia disipada son 200 vatios\n"
          ]
        }
      ]
    },
    {
      "cell_type": "markdown",
      "source": [
        "##Problema 3:\n",
        "<br>**Tarea:** Calcular la corriente eléctrica en una resistencia.\n",
        "<br>**Descripción:** Escribe un algoritmo que tome como entrada el valor de la tensión (𝑉) en voltios y el valor de la resistencia (𝑅) en ohmios, y calcule la corriente eléctrica (𝐼) que circula por a través de ella utilizando la ley de Ohm **𝑉=𝑅𝐼 **\n",
        "\n",
        "<br>**Resultado:** La corriente eléctrica en una resistencia.\n",
        "<br>**Entradas:** El valor de la tensión en voltios y el valor de la resistencia en ohmios.\n",
        "<br>**Ejemplo:** Entrada: 12 (voltios), 4 (ohmios); **Salida esperada:** 3 (amperios).\n",
        "\n",
        "<br>*Algoritmo*\n",
        "1. Leer el valor de la tensión `V` en voltios.\n",
        "2. Leer el valor de la resistencia `R` en ohmios.\n",
        "3. Calcular la corriente `I = V / R`.\n",
        "4. Mostrar el resultado en amperios.\n",
        "\n",
        "```\n",
        "Start\n",
        "  Input V, R\n",
        "  Set I = V / R\n",
        "  Display \"La corriente eléctrica son\", I, \"amperios.\"\n",
        "End\n",
        "```"
      ],
      "metadata": {
        "id": "XI0uPWWdL_p2"
      }
    },
    {
      "cell_type": "code",
      "source": [
        "def corriente_resistencia(V, R):\n",
        "    return V / R\n",
        "\n",
        "# Ejemplo de uso\n",
        "V = 12  # Voltios\n",
        "R = 4   # Ohmios\n",
        "print(\"La corriente eléctrica son\", corriente_resistencia(V, R), \"amperios.\")"
      ],
      "metadata": {
        "colab": {
          "base_uri": "https://localhost:8080/"
        },
        "id": "r0T88XwrNLEu",
        "outputId": "e524e53a-c879-4cfd-d222-9ea17ccfff3e"
      },
      "execution_count": null,
      "outputs": [
        {
          "output_type": "stream",
          "name": "stdout",
          "text": [
            "La corriente eléctrica son 3.0 amperios.\n"
          ]
        }
      ]
    },
    {
      "cell_type": "markdown",
      "source": [
        "##Problema 4:\n",
        "\n",
        "<br> **Tarea:** Calcular la constante de tiempo en un circuito RC.\n",
        "<br>**Descripción:** Desarrolla un algoritmo que tome como entrada el valor de la resistencia (𝑅) en ohmios y el valor de la capacitancia (𝐶), y calcule la constante de tiempo (𝜏) en un circuito RC utilizando la fórmula *t*=𝑅𝐶.\n",
        "\n",
        "<br>**Resultado:** La capacitancia del capacitor en faradios.\n",
        "<br>**Entradas:** El valor de la resistencia en ohmios y el valor del tiempo de carga en segundos.\n",
        "<br>**Ejemplo:** Entrada: 100 (ohmios), 0.0005 (faradios); **Salida esperada:** 0.05 (segundos).\n",
        "\n",
        "<br>*Algoritmo*\n",
        "1. Leer el valor de la resistencia `R` en ohmios.\n",
        "2. Leer el valor de la capacitancia `C` en faradios.\n",
        "3. Calcular la constante de tiempo `τ` como `R * C`.\n",
        "4. Mostrar el resultado.\n",
        "\n",
        "```\n",
        "Start\n",
        "  Input R, C\n",
        "  Set Tau = R * C\n",
        "  Display \"Constante de tiempo:\", Tau\n",
        "End\n",
        "```"
      ],
      "metadata": {
        "id": "_f65MBzkLezy"
      }
    },
    {
      "cell_type": "code",
      "source": [
        "def constante_tiempo(R, C):\n",
        "    return R * C\n",
        "\n",
        "# Ejemplo de uso\n",
        "print(\"Constante de tiempo:\", constante_tiempo(100, 0.0005))"
      ],
      "metadata": {
        "colab": {
          "base_uri": "https://localhost:8080/"
        },
        "id": "zCvPHZz_MZmL",
        "outputId": "3458a55b-e357-497c-e61d-50b60c43c3e3"
      },
      "execution_count": null,
      "outputs": [
        {
          "output_type": "stream",
          "name": "stdout",
          "text": [
            "Constante de tiempo: 0.05\n"
          ]
        }
      ]
    },
    {
      "cell_type": "markdown",
      "source": [
        "##Problema 5:\n",
        "\n",
        "<br>Tarea: Calcular el consumo de energía en un periodo de tiempo a partir de las potencias promedios.\n",
        "<br>**Descripción:** Desarrolla un algoritmo que tome como entrada un número de horas (𝑛) y 𝑛 valores de potencia promedio por hora en 𝑘𝑊ℎ para calcular la energía total consumida en el periodo indicado. Para este caso, la energía consumida cada hora tiene el mismo valor de la potencia promedio por hora, y la energía total es la sumatoria de estas.  \n",
        "\n",
        "<br>Resultado: La energía total consumida en el periodo indicado.\n",
        "<br>Entradas: La duración del periodo en horas y las potencias promedio por hora.\n",
        "<br>Ejemplo: Entrada: 4 (horas), 25, 25, 50, 100; **Salida esperada:** 200 (kWh).\n",
        "\n",
        "<br>*Algoritmo*\n",
        "1. Leer el número de horas `n`.\n",
        "2. Leer los valores de potencia promedio por hora.\n",
        "3. Sumar los valores para obtener la energía total consumida.\n",
        "4. Mostrar el resultado.\n",
        "\n",
        "```\n",
        "Start\n",
        "  Input n\n",
        "  Set Energia = 0\n",
        "  For i from 1 to n do\n",
        "    Input P\n",
        "    Set Energia = Energia + P\n",
        "  EndFor\n",
        "  Display \"El consumo de energía en\", n, \"horas, fue de:\", Energia, \"kWh\"\n",
        "End\n",
        "```"
      ],
      "metadata": {
        "id": "_nOGeq1JMccK"
      }
    },
    {
      "cell_type": "code",
      "source": [
        "def consumo_energia(n, potencias):\n",
        "    return sum(potencias)\n",
        "\n",
        "# Ejemplo de uso\n",
        "n = 4\n",
        "potencias = [25, 25, 50, 100]\n",
        "print(\"El consumo de energía en\", n, \"horas, fue de:\", consumo_energia(n, potencias), \"kWh\")"
      ],
      "metadata": {
        "colab": {
          "base_uri": "https://localhost:8080/"
        },
        "id": "nHj9QpCgMn9E",
        "outputId": "3082726e-40f4-4269-ee3e-496218de60b4"
      },
      "execution_count": null,
      "outputs": [
        {
          "output_type": "stream",
          "name": "stdout",
          "text": [
            "El consumo de energía en 4 horas, fue de: 200 kWh\n"
          ]
        }
      ]
    }
  ]
}